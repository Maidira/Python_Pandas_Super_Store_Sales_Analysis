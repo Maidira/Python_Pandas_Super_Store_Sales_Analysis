{
 "cells": [
  {
   "cell_type": "markdown",
   "id": "3e574efc",
   "metadata": {},
   "source": [
    "## Superstore sales Analysis"
   ]
  },
  {
   "cell_type": "code",
   "execution_count": 42,
   "id": "0a6837e8",
   "metadata": {},
   "outputs": [],
   "source": [
    "import pandas as pd\n",
    "import numpy as np\n",
    "import matplotlib.pyplot as plt\n",
    "import seaborn as sns\n",
    "import datetime as dt"
   ]
  },
  {
   "cell_type": "code",
   "execution_count": 43,
   "id": "60c2dc5b",
   "metadata": {},
   "outputs": [],
   "source": [
    "data = pd.read_csv('......./Superstore.csv', encoding_errors = \"ignore\")"
   ]
  },
  {
   "cell_type": "code",
   "execution_count": 3,
   "id": "c8f2af8a",
   "metadata": {
    "scrolled": false
   },
   "outputs": [
    {
     "data": {
      "text/html": [
       "<div>\n",
       "<style scoped>\n",
       "    .dataframe tbody tr th:only-of-type {\n",
       "        vertical-align: middle;\n",
       "    }\n",
       "\n",
       "    .dataframe tbody tr th {\n",
       "        vertical-align: top;\n",
       "    }\n",
       "\n",
       "    .dataframe thead th {\n",
       "        text-align: right;\n",
       "    }\n",
       "</style>\n",
       "<table border=\"1\" class=\"dataframe\">\n",
       "  <thead>\n",
       "    <tr style=\"text-align: right;\">\n",
       "      <th></th>\n",
       "      <th>Row ID</th>\n",
       "      <th>Order ID</th>\n",
       "      <th>Order Date</th>\n",
       "      <th>Ship Date</th>\n",
       "      <th>Ship Mode</th>\n",
       "      <th>Customer ID</th>\n",
       "      <th>Customer Name</th>\n",
       "      <th>Segment</th>\n",
       "      <th>Country</th>\n",
       "      <th>City</th>\n",
       "      <th>...</th>\n",
       "      <th>Postal Code</th>\n",
       "      <th>Region</th>\n",
       "      <th>Product ID</th>\n",
       "      <th>Category</th>\n",
       "      <th>Sub-Category</th>\n",
       "      <th>Product Name</th>\n",
       "      <th>Sales</th>\n",
       "      <th>Quantity</th>\n",
       "      <th>Discount</th>\n",
       "      <th>Profit</th>\n",
       "    </tr>\n",
       "  </thead>\n",
       "  <tbody>\n",
       "    <tr>\n",
       "      <th>0</th>\n",
       "      <td>1</td>\n",
       "      <td>CA-2016-152156</td>\n",
       "      <td>11/8/2016</td>\n",
       "      <td>11/11/2016</td>\n",
       "      <td>Second Class</td>\n",
       "      <td>CG-12520</td>\n",
       "      <td>Claire Gute</td>\n",
       "      <td>Consumer</td>\n",
       "      <td>United States</td>\n",
       "      <td>Henderson</td>\n",
       "      <td>...</td>\n",
       "      <td>42420</td>\n",
       "      <td>South</td>\n",
       "      <td>FUR-BO-10001798</td>\n",
       "      <td>Furniture</td>\n",
       "      <td>Bookcases</td>\n",
       "      <td>Bush Somerset Collection Bookcase</td>\n",
       "      <td>261.9600</td>\n",
       "      <td>2</td>\n",
       "      <td>0.00</td>\n",
       "      <td>41.9136</td>\n",
       "    </tr>\n",
       "    <tr>\n",
       "      <th>1</th>\n",
       "      <td>2</td>\n",
       "      <td>CA-2016-152156</td>\n",
       "      <td>11/8/2016</td>\n",
       "      <td>11/11/2016</td>\n",
       "      <td>Second Class</td>\n",
       "      <td>CG-12520</td>\n",
       "      <td>Claire Gute</td>\n",
       "      <td>Consumer</td>\n",
       "      <td>United States</td>\n",
       "      <td>Henderson</td>\n",
       "      <td>...</td>\n",
       "      <td>42420</td>\n",
       "      <td>South</td>\n",
       "      <td>FUR-CH-10000454</td>\n",
       "      <td>Furniture</td>\n",
       "      <td>Chairs</td>\n",
       "      <td>Hon Deluxe Fabric Upholstered Stacking Chairs,...</td>\n",
       "      <td>731.9400</td>\n",
       "      <td>3</td>\n",
       "      <td>0.00</td>\n",
       "      <td>219.5820</td>\n",
       "    </tr>\n",
       "    <tr>\n",
       "      <th>2</th>\n",
       "      <td>3</td>\n",
       "      <td>CA-2016-138688</td>\n",
       "      <td>6/12/2016</td>\n",
       "      <td>6/16/2016</td>\n",
       "      <td>Second Class</td>\n",
       "      <td>DV-13045</td>\n",
       "      <td>Darrin Van Huff</td>\n",
       "      <td>Corporate</td>\n",
       "      <td>United States</td>\n",
       "      <td>Los Angeles</td>\n",
       "      <td>...</td>\n",
       "      <td>90036</td>\n",
       "      <td>West</td>\n",
       "      <td>OFF-LA-10000240</td>\n",
       "      <td>Office Supplies</td>\n",
       "      <td>Labels</td>\n",
       "      <td>Self-Adhesive Address Labels for Typewriters b...</td>\n",
       "      <td>14.6200</td>\n",
       "      <td>2</td>\n",
       "      <td>0.00</td>\n",
       "      <td>6.8714</td>\n",
       "    </tr>\n",
       "    <tr>\n",
       "      <th>3</th>\n",
       "      <td>4</td>\n",
       "      <td>US-2015-108966</td>\n",
       "      <td>10/11/2015</td>\n",
       "      <td>10/18/2015</td>\n",
       "      <td>Standard Class</td>\n",
       "      <td>SO-20335</td>\n",
       "      <td>Sean O'Donnell</td>\n",
       "      <td>Consumer</td>\n",
       "      <td>United States</td>\n",
       "      <td>Fort Lauderdale</td>\n",
       "      <td>...</td>\n",
       "      <td>33311</td>\n",
       "      <td>South</td>\n",
       "      <td>FUR-TA-10000577</td>\n",
       "      <td>Furniture</td>\n",
       "      <td>Tables</td>\n",
       "      <td>Bretford CR4500 Series Slim Rectangular Table</td>\n",
       "      <td>957.5775</td>\n",
       "      <td>5</td>\n",
       "      <td>0.45</td>\n",
       "      <td>-383.0310</td>\n",
       "    </tr>\n",
       "    <tr>\n",
       "      <th>4</th>\n",
       "      <td>5</td>\n",
       "      <td>US-2015-108966</td>\n",
       "      <td>10/11/2015</td>\n",
       "      <td>10/18/2015</td>\n",
       "      <td>Standard Class</td>\n",
       "      <td>SO-20335</td>\n",
       "      <td>Sean O'Donnell</td>\n",
       "      <td>Consumer</td>\n",
       "      <td>United States</td>\n",
       "      <td>Fort Lauderdale</td>\n",
       "      <td>...</td>\n",
       "      <td>33311</td>\n",
       "      <td>South</td>\n",
       "      <td>OFF-ST-10000760</td>\n",
       "      <td>Office Supplies</td>\n",
       "      <td>Storage</td>\n",
       "      <td>Eldon Fold 'N Roll Cart System</td>\n",
       "      <td>22.3680</td>\n",
       "      <td>2</td>\n",
       "      <td>0.20</td>\n",
       "      <td>2.5164</td>\n",
       "    </tr>\n",
       "  </tbody>\n",
       "</table>\n",
       "<p>5 rows × 21 columns</p>\n",
       "</div>"
      ],
      "text/plain": [
       "   Row ID        Order ID  Order Date   Ship Date       Ship Mode Customer ID  \\\n",
       "0       1  CA-2016-152156   11/8/2016  11/11/2016    Second Class    CG-12520   \n",
       "1       2  CA-2016-152156   11/8/2016  11/11/2016    Second Class    CG-12520   \n",
       "2       3  CA-2016-138688   6/12/2016   6/16/2016    Second Class    DV-13045   \n",
       "3       4  US-2015-108966  10/11/2015  10/18/2015  Standard Class    SO-20335   \n",
       "4       5  US-2015-108966  10/11/2015  10/18/2015  Standard Class    SO-20335   \n",
       "\n",
       "     Customer Name    Segment        Country             City  ...  \\\n",
       "0      Claire Gute   Consumer  United States        Henderson  ...   \n",
       "1      Claire Gute   Consumer  United States        Henderson  ...   \n",
       "2  Darrin Van Huff  Corporate  United States      Los Angeles  ...   \n",
       "3   Sean O'Donnell   Consumer  United States  Fort Lauderdale  ...   \n",
       "4   Sean O'Donnell   Consumer  United States  Fort Lauderdale  ...   \n",
       "\n",
       "  Postal Code  Region       Product ID         Category Sub-Category  \\\n",
       "0       42420   South  FUR-BO-10001798        Furniture    Bookcases   \n",
       "1       42420   South  FUR-CH-10000454        Furniture       Chairs   \n",
       "2       90036    West  OFF-LA-10000240  Office Supplies       Labels   \n",
       "3       33311   South  FUR-TA-10000577        Furniture       Tables   \n",
       "4       33311   South  OFF-ST-10000760  Office Supplies      Storage   \n",
       "\n",
       "                                        Product Name     Sales  Quantity  \\\n",
       "0                  Bush Somerset Collection Bookcase  261.9600         2   \n",
       "1  Hon Deluxe Fabric Upholstered Stacking Chairs,...  731.9400         3   \n",
       "2  Self-Adhesive Address Labels for Typewriters b...   14.6200         2   \n",
       "3      Bretford CR4500 Series Slim Rectangular Table  957.5775         5   \n",
       "4                     Eldon Fold 'N Roll Cart System   22.3680         2   \n",
       "\n",
       "   Discount    Profit  \n",
       "0      0.00   41.9136  \n",
       "1      0.00  219.5820  \n",
       "2      0.00    6.8714  \n",
       "3      0.45 -383.0310  \n",
       "4      0.20    2.5164  \n",
       "\n",
       "[5 rows x 21 columns]"
      ]
     },
     "execution_count": 3,
     "metadata": {},
     "output_type": "execute_result"
    }
   ],
   "source": [
    "data.head()"
   ]
  },
  {
   "cell_type": "code",
   "execution_count": 4,
   "id": "fedd452a",
   "metadata": {},
   "outputs": [
    {
     "data": {
      "text/plain": [
       "(9994, 21)"
      ]
     },
     "execution_count": 4,
     "metadata": {},
     "output_type": "execute_result"
    }
   ],
   "source": [
    "data.shape"
   ]
  },
  {
   "cell_type": "code",
   "execution_count": 5,
   "id": "6633ab67",
   "metadata": {},
   "outputs": [
    {
     "name": "stdout",
     "output_type": "stream",
     "text": [
      "<class 'pandas.core.frame.DataFrame'>\n",
      "RangeIndex: 9994 entries, 0 to 9993\n",
      "Data columns (total 21 columns):\n",
      " #   Column         Non-Null Count  Dtype  \n",
      "---  ------         --------------  -----  \n",
      " 0   Row ID         9994 non-null   int64  \n",
      " 1   Order ID       9994 non-null   object \n",
      " 2   Order Date     9994 non-null   object \n",
      " 3   Ship Date      9994 non-null   object \n",
      " 4   Ship Mode      9994 non-null   object \n",
      " 5   Customer ID    9994 non-null   object \n",
      " 6   Customer Name  9994 non-null   object \n",
      " 7   Segment        9994 non-null   object \n",
      " 8   Country        9994 non-null   object \n",
      " 9   City           9994 non-null   object \n",
      " 10  State          9994 non-null   object \n",
      " 11  Postal Code    9994 non-null   int64  \n",
      " 12  Region         9994 non-null   object \n",
      " 13  Product ID     9994 non-null   object \n",
      " 14  Category       9994 non-null   object \n",
      " 15  Sub-Category   9994 non-null   object \n",
      " 16  Product Name   9994 non-null   object \n",
      " 17  Sales          9994 non-null   float64\n",
      " 18  Quantity       9994 non-null   int64  \n",
      " 19  Discount       9994 non-null   float64\n",
      " 20  Profit         9994 non-null   float64\n",
      "dtypes: float64(3), int64(3), object(15)\n",
      "memory usage: 10.3 MB\n"
     ]
    }
   ],
   "source": [
    "data.info(memory_usage = \"deep\")"
   ]
  },
  {
   "cell_type": "code",
   "execution_count": 6,
   "id": "187681a9",
   "metadata": {},
   "outputs": [
    {
     "data": {
      "text/plain": [
       "Row ID           0\n",
       "Order ID         0\n",
       "Order Date       0\n",
       "Ship Date        0\n",
       "Ship Mode        0\n",
       "Customer ID      0\n",
       "Customer Name    0\n",
       "Segment          0\n",
       "Country          0\n",
       "City             0\n",
       "State            0\n",
       "Postal Code      0\n",
       "Region           0\n",
       "Product ID       0\n",
       "Category         0\n",
       "Sub-Category     0\n",
       "Product Name     0\n",
       "Sales            0\n",
       "Quantity         0\n",
       "Discount         0\n",
       "Profit           0\n",
       "dtype: int64"
      ]
     },
     "execution_count": 6,
     "metadata": {},
     "output_type": "execute_result"
    }
   ],
   "source": [
    "data.isnull().sum()"
   ]
  },
  {
   "cell_type": "code",
   "execution_count": 7,
   "id": "4fa69971",
   "metadata": {},
   "outputs": [
    {
     "data": {
      "text/plain": [
       "0"
      ]
     },
     "execution_count": 7,
     "metadata": {},
     "output_type": "execute_result"
    }
   ],
   "source": [
    "data.duplicated().sum()"
   ]
  },
  {
   "cell_type": "code",
   "execution_count": 8,
   "id": "0c153ded",
   "metadata": {},
   "outputs": [],
   "source": [
    "data[\"Order Date\"] = pd.to_datetime(data[\"Order Date\"])\n",
    "data[\"Ship Date\"] = pd.to_datetime(data[\"Ship Date\"])"
   ]
  },
  {
   "cell_type": "markdown",
   "id": "4d521736",
   "metadata": {},
   "source": [
    "### Sales and Profit Analysis"
   ]
  },
  {
   "cell_type": "code",
   "execution_count": 9,
   "id": "da5d81c3",
   "metadata": {},
   "outputs": [
    {
     "data": {
      "text/plain": [
       "Category\n",
       "Technology         145454.9481\n",
       "Office Supplies    122490.8008\n",
       "Furniture           18451.2728\n",
       "Name: Profit, dtype: float64"
      ]
     },
     "execution_count": 9,
     "metadata": {},
     "output_type": "execute_result"
    }
   ],
   "source": [
    "# Category wise Overall Profit\n",
    "category_profit = data.groupby(\"Category\")[\"Profit\"].sum().sort_values(ascending = False)\n",
    "category_profit"
   ]
  },
  {
   "cell_type": "code",
   "execution_count": 10,
   "id": "2bb88aa7",
   "metadata": {},
   "outputs": [
    {
     "data": {
      "image/png": "[encoded data removed]",
      "text/plain": [
       "<Figure size 720x432 with 1 Axes>"
      ]
     },
     "metadata": {
      "needs_background": "light"
     },
     "output_type": "display_data"
    }
   ],
   "source": [
    "plt.figure(figsize=(10, 6))\n",
    "category_profit.plot(kind='bar', color='skyblue')\n",
    "plt.title('Total Profit by Product Category')\n",
    "plt.ylabel('Profit')\n",
    "plt.xlabel('Product Category')\n",
    "plt.show()"
   ]
  },
  {
   "cell_type": "code",
   "execution_count": 11,
   "id": "cef2760f",
   "metadata": {},
   "outputs": [
    {
     "data": {
      "image/png": "[encoded data removed]",
      "text/plain": [
       "<Figure size 720x432 with 1 Axes>"
      ]
     },
     "metadata": {
      "needs_background": "light"
     },
     "output_type": "display_data"
    }
   ],
   "source": [
    "# Relationship between sales and profit\n",
    "plt.figure(figsize = (10,6))\n",
    "sns.scatterplot(x = \"Sales\", y = \"Profit\", data = data, alpha = 0.5)\n",
    "plt.title(\"Relationship between sales and profit\")\n",
    "plt.xlabel(\"Sales\")\n",
    "plt.ylabel(\"Profit\")\n",
    "plt.show()"
   ]
  },
  {
   "cell_type": "code",
   "execution_count": 12,
   "id": "787c0165",
   "metadata": {},
   "outputs": [
    {
     "data": {
      "text/plain": [
       "0       0.1600\n",
       "1       0.3000\n",
       "2       0.4700\n",
       "3      -0.4000\n",
       "4       0.1125\n",
       "         ...  \n",
       "9989    0.1625\n",
       "9990    0.1700\n",
       "9991    0.0750\n",
       "9992    0.4500\n",
       "9993    0.3000\n",
       "Name: Profit margin, Length: 9994, dtype: float64"
      ]
     },
     "execution_count": 12,
     "metadata": {},
     "output_type": "execute_result"
    }
   ],
   "source": [
    "# Which prooduct have minimum profir margin\n",
    "data[\"Profit margin\"] = data[\"Profit\"]/data[\"Sales\"]\n",
    "data[\"Profit margin\"]"
   ]
  },
  {
   "cell_type": "code",
   "execution_count": 13,
   "id": "ed31e6ce",
   "metadata": {},
   "outputs": [
    {
     "data": {
      "text/html": [
       "<div>\n",
       "<style scoped>\n",
       "    .dataframe tbody tr th:only-of-type {\n",
       "        vertical-align: middle;\n",
       "    }\n",
       "\n",
       "    .dataframe tbody tr th {\n",
       "        vertical-align: top;\n",
       "    }\n",
       "\n",
       "    .dataframe thead th {\n",
       "        text-align: right;\n",
       "    }\n",
       "</style>\n",
       "<table border=\"1\" class=\"dataframe\">\n",
       "  <thead>\n",
       "    <tr style=\"text-align: right;\">\n",
       "      <th></th>\n",
       "      <th>Product Name</th>\n",
       "      <th>Sales</th>\n",
       "      <th>Profit</th>\n",
       "    </tr>\n",
       "  </thead>\n",
       "  <tbody>\n",
       "    <tr>\n",
       "      <th>3</th>\n",
       "      <td>Bretford CR4500 Series Slim Rectangular Table</td>\n",
       "      <td>957.5775</td>\n",
       "      <td>-383.0310</td>\n",
       "    </tr>\n",
       "    <tr>\n",
       "      <th>14</th>\n",
       "      <td>Holmes Replacement Filter for HEPA Air Cleaner...</td>\n",
       "      <td>68.8100</td>\n",
       "      <td>-123.8580</td>\n",
       "    </tr>\n",
       "    <tr>\n",
       "      <th>15</th>\n",
       "      <td>Storex DuraTech Recycled Plastic Frosted Binders</td>\n",
       "      <td>2.5440</td>\n",
       "      <td>-3.8160</td>\n",
       "    </tr>\n",
       "    <tr>\n",
       "      <th>23</th>\n",
       "      <td>Global Deluxe Stacking Chair, Gray</td>\n",
       "      <td>71.3720</td>\n",
       "      <td>-1.0196</td>\n",
       "    </tr>\n",
       "    <tr>\n",
       "      <th>27</th>\n",
       "      <td>Riverside Palais Royal Lawyers Bookcase, Royal...</td>\n",
       "      <td>3083.4300</td>\n",
       "      <td>-1665.0522</td>\n",
       "    </tr>\n",
       "    <tr>\n",
       "      <th>...</th>\n",
       "      <td>...</td>\n",
       "      <td>...</td>\n",
       "      <td>...</td>\n",
       "    </tr>\n",
       "    <tr>\n",
       "      <th>9921</th>\n",
       "      <td>Acco Expandable Hanging Binders</td>\n",
       "      <td>5.7420</td>\n",
       "      <td>-4.5936</td>\n",
       "    </tr>\n",
       "    <tr>\n",
       "      <th>9931</th>\n",
       "      <td>O'Sullivan Living Dimensions 3-Shelf Bookcases</td>\n",
       "      <td>683.3320</td>\n",
       "      <td>-40.1960</td>\n",
       "    </tr>\n",
       "    <tr>\n",
       "      <th>9937</th>\n",
       "      <td>Hon 61000 Series Interactive Training Tables</td>\n",
       "      <td>71.0880</td>\n",
       "      <td>-1.7772</td>\n",
       "    </tr>\n",
       "    <tr>\n",
       "      <th>9962</th>\n",
       "      <td>Bush Heritage Pine Collection 5-Shelf Bookcase...</td>\n",
       "      <td>383.4656</td>\n",
       "      <td>-67.6704</td>\n",
       "    </tr>\n",
       "    <tr>\n",
       "      <th>9977</th>\n",
       "      <td>Alliance Big Bands Rubber Bands, 12/Pack</td>\n",
       "      <td>13.8600</td>\n",
       "      <td>0.0000</td>\n",
       "    </tr>\n",
       "  </tbody>\n",
       "</table>\n",
       "<p>1936 rows × 3 columns</p>\n",
       "</div>"
      ],
      "text/plain": [
       "                                           Product Name      Sales     Profit\n",
       "3         Bretford CR4500 Series Slim Rectangular Table   957.5775  -383.0310\n",
       "14    Holmes Replacement Filter for HEPA Air Cleaner...    68.8100  -123.8580\n",
       "15     Storex DuraTech Recycled Plastic Frosted Binders     2.5440    -3.8160\n",
       "23                   Global Deluxe Stacking Chair, Gray    71.3720    -1.0196\n",
       "27    Riverside Palais Royal Lawyers Bookcase, Royal...  3083.4300 -1665.0522\n",
       "...                                                 ...        ...        ...\n",
       "9921                    Acco Expandable Hanging Binders     5.7420    -4.5936\n",
       "9931     O'Sullivan Living Dimensions 3-Shelf Bookcases   683.3320   -40.1960\n",
       "9937       Hon 61000 Series Interactive Training Tables    71.0880    -1.7772\n",
       "9962  Bush Heritage Pine Collection 5-Shelf Bookcase...   383.4656   -67.6704\n",
       "9977           Alliance Big Bands Rubber Bands, 12/Pack    13.8600     0.0000\n",
       "\n",
       "[1936 rows x 3 columns]"
      ]
     },
     "execution_count": 13,
     "metadata": {},
     "output_type": "execute_result"
    }
   ],
   "source": [
    "negative_margin_products = data[data[\"Profit margin\"] <= 0][[\"Product Name\", \"Sales\", \"Profit\"]]\n",
    "negative_margin_products"
   ]
  },
  {
   "cell_type": "code",
   "execution_count": 14,
   "id": "07b97e6c",
   "metadata": {},
   "outputs": [
    {
     "data": {
      "text/plain": [
       "0        Tuesday\n",
       "1        Tuesday\n",
       "2         Sunday\n",
       "3         Sunday\n",
       "4         Sunday\n",
       "          ...   \n",
       "9989     Tuesday\n",
       "9990      Sunday\n",
       "9991      Sunday\n",
       "9992      Sunday\n",
       "9993    Thursday\n",
       "Name: Order Weekday, Length: 9994, dtype: object"
      ]
     },
     "execution_count": 14,
     "metadata": {},
     "output_type": "execute_result"
    }
   ],
   "source": [
    "# Sales volume by day\n",
    "data[\"Order Weekday\"] = data[\"Order Date\"].dt.day_name()\n",
    "data[\"Order Weekday\"]"
   ]
  },
  {
   "cell_type": "code",
   "execution_count": 15,
   "id": "226ff82a",
   "metadata": {},
   "outputs": [
    {
     "data": {
      "text/plain": [
       "Order Weekday\n",
       "Monday       428937.8157\n",
       "Tuesday      287209.5022\n",
       "Wednesday     88056.9752\n",
       "Thursday     321965.7785\n",
       "Friday       427692.2593\n",
       "Saturday     357984.6830\n",
       "Sunday       385353.8464\n",
       "Name: Sales, dtype: float64"
      ]
     },
     "execution_count": 15,
     "metadata": {},
     "output_type": "execute_result"
    }
   ],
   "source": [
    "weekday_sales = data.groupby(\"Order Weekday\")[\"Sales\"].sum().reindex(\n",
    "    ['Monday', 'Tuesday', 'Wednesday', 'Thursday', 'Friday', 'Saturday', 'Sunday']\n",
    ")\n",
    "weekday_sales"
   ]
  },
  {
   "cell_type": "code",
   "execution_count": 16,
   "id": "5b4fee9b",
   "metadata": {},
   "outputs": [
    {
     "data": {
      "image/png": "[encoded data removed]",
      "text/plain": [
       "<Figure size 720x432 with 1 Axes>"
      ]
     },
     "metadata": {
      "needs_background": "light"
     },
     "output_type": "display_data"
    }
   ],
   "source": [
    "plt.figure(figsize=(10, 6))\n",
    "weekday_sales.plot(kind='bar', color='lightcoral')\n",
    "plt.title('Sales Volume by day')\n",
    "plt.ylabel('Sales')\n",
    "plt.xlabel('Weekday')\n",
    "plt.show()"
   ]
  },
  {
   "cell_type": "code",
   "execution_count": 17,
   "id": "3ee1746c",
   "metadata": {},
   "outputs": [
    {
     "data": {
      "text/plain": [
       "Order Month\n",
       "1      94924.8356\n",
       "2      59751.2514\n",
       "3     205005.4888\n",
       "4     137762.1286\n",
       "5     155028.8117\n",
       "6     152718.6793\n",
       "7     147238.0970\n",
       "8     159044.0630\n",
       "9     307649.9457\n",
       "10    200322.9847\n",
       "11    352461.0710\n",
       "12    325293.5035\n",
       "Name: Sales, dtype: float64"
      ]
     },
     "execution_count": 17,
     "metadata": {},
     "output_type": "execute_result"
    }
   ],
   "source": [
    "# Time of year where we see spike or drop in sales\n",
    "data[\"Order Month\"] = data[\"Order Date\"].dt.month\n",
    "monthly_sales = data.groupby(\"Order Month\")[\"Sales\"].sum()\n",
    "monthly_sales"
   ]
  },
  {
   "cell_type": "code",
   "execution_count": 18,
   "id": "b7e99639",
   "metadata": {},
   "outputs": [
    {
     "data": {
      "image/png": "[encoded data removed]",
      "text/plain": [
       "<Figure size 864x432 with 1 Axes>"
      ]
     },
     "metadata": {
      "needs_background": "light"
     },
     "output_type": "display_data"
    }
   ],
   "source": [
    "plt.figure(figsize = (12,6))\n",
    "monthly_sales.plot(kind = \"line\", marker = \"o\", color = \"purple\")\n",
    "plt.title(\"Monthly Sales trend\")\n",
    "plt.ylabel(\"Sales\")\n",
    "plt.xlabel(\"Month\")\n",
    "plt.show()"
   ]
  },
  {
   "cell_type": "code",
   "execution_count": 38,
   "id": "df33abf2",
   "metadata": {},
   "outputs": [
    {
     "data": {
      "text/plain": [
       "Price Range\n",
       "<50           3.708673\n",
       "50-100       11.147793\n",
       "100-200      21.960934\n",
       "200-500      28.196651\n",
       "500-1000     57.748690\n",
       ">1000       314.047259\n",
       "Name: Profit, dtype: float64"
      ]
     },
     "execution_count": 38,
     "metadata": {},
     "output_type": "execute_result"
    }
   ],
   "source": [
    "# Profit distribution across different price ranges\n",
    "data['Price Range'] = pd.cut(data['Sales'], bins=[0, 50, 100, 200, 500, 1000, data['Sales'].max()], labels=['<50', '50-100', '100-200', '200-500', '500-1000', '>1000'])\n",
    "price_range_profit = data.groupby('Price Range')['Profit'].mean()\n",
    "price_range_profit"
   ]
  },
  {
   "cell_type": "code",
   "execution_count": 39,
   "id": "f4a2acc6",
   "metadata": {},
   "outputs": [
    {
     "data": {
      "text/plain": [
       "(array([0, 1, 2, 3, 4, 5]),\n",
       " [Text(0, 0, '<50'),\n",
       "  Text(1, 0, '50-100'),\n",
       "  Text(2, 0, '100-200'),\n",
       "  Text(3, 0, '200-500'),\n",
       "  Text(4, 0, '500-1000'),\n",
       "  Text(5, 0, '>1000')])"
      ]
     },
     "execution_count": 39,
     "metadata": {},
     "output_type": "execute_result"
    },
    {
     "data": {
      "image/png": "[encoded data removed]",
      "text/plain": [
       "<Figure size 432x288 with 1 Axes>"
      ]
     },
     "metadata": {
      "needs_background": "light"
     },
     "output_type": "display_data"
    }
   ],
   "source": [
    "price_range_profit.plot(kind='bar', color='purple')\n",
    "plt.title('Average Profit by Price Range')\n",
    "plt.xlabel('Price Range')\n",
    "plt.ylabel('Average Profit')\n",
    "plt.xticks(rotation=45)\n"
   ]
  },
  {
   "cell_type": "code",
   "execution_count": 41,
   "id": "35812c3a",
   "metadata": {},
   "outputs": [
    {
     "data": {
      "image/png": "[encoded data removed]",
      "text/plain": [
       "<Figure size 864x576 with 1 Axes>"
      ]
     },
     "metadata": {
      "needs_background": "light"
     },
     "output_type": "display_data"
    }
   ],
   "source": [
    "# Effect of discounts on sales across regions\n",
    "data['Discount Rate'] = pd.cut(data['Discount'], bins=[0, 0.1, 0.2, 0.3, 0.5, data['Discount'].max()], labels=['<10%', '10-20%', '20-30%', '30-50%', '>50%'])\n",
    "discount_sales = data.groupby(['Region', 'Discount Rate'])['Quantity'].sum().unstack()\n",
    "discount_sales.plot(kind='bar', stacked=True, figsize=(12, 8))\n",
    "plt.title('Sales Volume by Discount Rate across Regions')\n",
    "plt.show()"
   ]
  },
  {
   "cell_type": "markdown",
   "id": "2ee375ee",
   "metadata": {},
   "source": [
    "### Customer Behaviour and Segmentation"
   ]
  },
  {
   "cell_type": "code",
   "execution_count": 19,
   "id": "50694a51",
   "metadata": {},
   "outputs": [],
   "source": [
    "# Top 5 customers by sales and profit\n",
    "top_customers_sales = data.groupby(\"Customer ID\")[\"Sales\"].sum().nlargest()\n",
    "top_customers_profit = data.groupby(\"Customer ID\")[\"Profit\"].sum().nlargest()"
   ]
  },
  {
   "cell_type": "code",
   "execution_count": 20,
   "id": "6339defb",
   "metadata": {},
   "outputs": [
    {
     "data": {
      "text/plain": [
       "Customer ID\n",
       "SM-20320    25043.050\n",
       "TC-20980    19052.218\n",
       "RB-19360    15117.339\n",
       "TA-21385    14595.620\n",
       "AB-10105    14473.571\n",
       "Name: Sales, dtype: float64"
      ]
     },
     "execution_count": 20,
     "metadata": {},
     "output_type": "execute_result"
    }
   ],
   "source": [
    "top_customers_sales "
   ]
  },
  {
   "cell_type": "code",
   "execution_count": 21,
   "id": "af2e6985",
   "metadata": {},
   "outputs": [
    {
     "data": {
      "text/plain": [
       "Customer ID\n",
       "TC-20980    8981.3239\n",
       "RB-19360    6976.0959\n",
       "SC-20095    5757.4119\n",
       "HL-15040    5622.4292\n",
       "AB-10105    5444.8055\n",
       "Name: Profit, dtype: float64"
      ]
     },
     "execution_count": 21,
     "metadata": {},
     "output_type": "execute_result"
    }
   ],
   "source": [
    "top_customers_profit"
   ]
  },
  {
   "cell_type": "code",
   "execution_count": 22,
   "id": "8dcd9645",
   "metadata": {},
   "outputs": [
    {
     "data": {
      "text/plain": [
       "Segment      Product Name     \n",
       "Consumer     Staple envelope      104\n",
       "Corporate    Staples               90\n",
       "Home Office  Easy-staple paper     46\n",
       "Name: Quantity, dtype: int64"
      ]
     },
     "execution_count": 22,
     "metadata": {},
     "output_type": "execute_result"
    }
   ],
   "source": [
    "# Most common Product bought by each customer segment\n",
    "segement_top_products = data.groupby([\"Segment\", \"Product Name\"])[\"Quantity\"].sum().sort_values(ascending = False).groupby(level=0).head(1)\n",
    "segement_top_products"
   ]
  },
  {
   "cell_type": "code",
   "execution_count": 23,
   "id": "92348adf",
   "metadata": {},
   "outputs": [
    {
     "data": {
      "text/plain": [
       "Segment\n",
       "Consumer       3.760547\n",
       "Corporate      3.843709\n",
       "Home Office    3.782389\n",
       "Name: Quantity, dtype: float64"
      ]
     },
     "execution_count": 23,
     "metadata": {},
     "output_type": "execute_result"
    }
   ],
   "source": [
    "# Average order size for each customer segment\n",
    "avg_order_size = data.groupby(\"Segment\")[\"Quantity\"].mean()\n",
    "avg_order_size"
   ]
  },
  {
   "cell_type": "code",
   "execution_count": 24,
   "id": "de06fba6",
   "metadata": {},
   "outputs": [
    {
     "data": {
      "image/png": "[encoded data removed]",
      "text/plain": [
       "<Figure size 432x288 with 1 Axes>"
      ]
     },
     "metadata": {
      "needs_background": "light"
     },
     "output_type": "display_data"
    }
   ],
   "source": [
    "# Do loyal customers (high order frequency) spend more on average?\n",
    "customer_order_frequency = data.groupby('Customer ID').size()\n",
    "customer_avg_spend = data.groupby('Customer ID')['Sales'].mean()\n",
    "loyalty_analysis = pd.DataFrame({'Order Frequency': customer_order_frequency, 'Avg Spend': customer_avg_spend})\n",
    "sns.scatterplot(x='Order Frequency', y='Avg Spend', data=loyalty_analysis)\n",
    "plt.title('Order Frequency vs Average Spend')\n",
    "plt.show()"
   ]
  },
  {
   "cell_type": "code",
   "execution_count": 25,
   "id": "68360316",
   "metadata": {},
   "outputs": [
    {
     "data": {
      "text/plain": [
       "0.9735182849936949"
      ]
     },
     "execution_count": 25,
     "metadata": {},
     "output_type": "execute_result"
    }
   ],
   "source": [
    "# Retention rate of customers over the years\n",
    "data['Order Year'] = data['Order Date'].dt.year\n",
    "customer_years = data.groupby('Customer ID')['Order Year'].nunique()\n",
    "retention_rate = customer_years[customer_years > 1].count() / customer_years.count()\n",
    "retention_rate"
   ]
  },
  {
   "cell_type": "code",
   "execution_count": 26,
   "id": "9d43903f",
   "metadata": {},
   "outputs": [
    {
     "data": {
      "text/plain": [
       "Customer ID\n",
       "AA-10315    4\n",
       "AA-10375    4\n",
       "AA-10480    3\n",
       "AA-10645    4\n",
       "AB-10015    2\n",
       "           ..\n",
       "XP-21865    4\n",
       "YC-21895    4\n",
       "YS-21880    2\n",
       "ZC-21910    4\n",
       "ZD-21925    3\n",
       "Name: Order Year, Length: 793, dtype: int64"
      ]
     },
     "execution_count": 26,
     "metadata": {},
     "output_type": "execute_result"
    }
   ],
   "source": [
    "customer_years"
   ]
  },
  {
   "cell_type": "code",
   "execution_count": 45,
   "id": "ba1924c6",
   "metadata": {},
   "outputs": [
    {
     "data": {
      "text/plain": [
       "Customer ID\n",
       "TC-20980    8981.3239\n",
       "RB-19360    6976.0959\n",
       "SC-20095    5757.4119\n",
       "HL-15040    5622.4292\n",
       "AB-10105    5444.8055\n",
       "TA-21385    4703.7883\n",
       "CM-12385    3899.8904\n",
       "KD-16495    3038.6254\n",
       "AR-10540    2884.6208\n",
       "DR-12940    2869.0760\n",
       "Name: Profit, dtype: float64"
      ]
     },
     "execution_count": 45,
     "metadata": {},
     "output_type": "execute_result"
    }
   ],
   "source": [
    "# Customer lifetime value using average profit per customer\n",
    "customer_profit = data.groupby('Customer ID')['Profit'].sum().sort_values(ascending = False)\n",
    "customer_profit.head(10)"
   ]
  },
  {
   "cell_type": "code",
   "execution_count": 48,
   "id": "2811bcb6",
   "metadata": {},
   "outputs": [
    {
     "data": {
      "text/plain": [
       "Segment\n",
       "Consumer       0.515763\n",
       "Corporate      0.297604\n",
       "Home Office    0.186633\n",
       "Name: Customer ID, dtype: float64"
      ]
     },
     "execution_count": 48,
     "metadata": {},
     "output_type": "execute_result"
    }
   ],
   "source": [
    "# Which segment of customers has the highest likelihood of repeat purchase\n",
    "repeat_customers = data.groupby('Segment')['Customer ID'].nunique() / data['Customer ID'].nunique()\n",
    "repeat_customers"
   ]
  },
  {
   "cell_type": "markdown",
   "id": "13ce15fc",
   "metadata": {},
   "source": [
    "### Geographic and Regional Analysis"
   ]
  },
  {
   "cell_type": "code",
   "execution_count": 27,
   "id": "4a5ca41d",
   "metadata": {},
   "outputs": [
    {
     "data": {
      "text/html": [
       "<div>\n",
       "<style scoped>\n",
       "    .dataframe tbody tr th:only-of-type {\n",
       "        vertical-align: middle;\n",
       "    }\n",
       "\n",
       "    .dataframe tbody tr th {\n",
       "        vertical-align: top;\n",
       "    }\n",
       "\n",
       "    .dataframe thead th {\n",
       "        text-align: right;\n",
       "    }\n",
       "</style>\n",
       "<table border=\"1\" class=\"dataframe\">\n",
       "  <thead>\n",
       "    <tr style=\"text-align: right;\">\n",
       "      <th></th>\n",
       "      <th>Row ID</th>\n",
       "      <th>Postal Code</th>\n",
       "      <th>Sales</th>\n",
       "      <th>Quantity</th>\n",
       "      <th>Discount</th>\n",
       "      <th>Profit</th>\n",
       "      <th>Profit margin</th>\n",
       "      <th>Order Month</th>\n",
       "      <th>Order Year</th>\n",
       "    </tr>\n",
       "    <tr>\n",
       "      <th>Region</th>\n",
       "      <th></th>\n",
       "      <th></th>\n",
       "      <th></th>\n",
       "      <th></th>\n",
       "      <th></th>\n",
       "      <th></th>\n",
       "      <th></th>\n",
       "      <th></th>\n",
       "      <th></th>\n",
       "    </tr>\n",
       "  </thead>\n",
       "  <tbody>\n",
       "    <tr>\n",
       "      <th>Central</th>\n",
       "      <td>11685963</td>\n",
       "      <td>151786150</td>\n",
       "      <td>501239.8908</td>\n",
       "      <td>8780</td>\n",
       "      <td>558.34</td>\n",
       "      <td>39706.3625</td>\n",
       "      <td>-241.761438</td>\n",
       "      <td>17870</td>\n",
       "      <td>4682538</td>\n",
       "    </tr>\n",
       "    <tr>\n",
       "      <th>East</th>\n",
       "      <td>14073919</td>\n",
       "      <td>50171698</td>\n",
       "      <td>678781.2400</td>\n",
       "      <td>10618</td>\n",
       "      <td>414.00</td>\n",
       "      <td>91522.7800</td>\n",
       "      <td>476.262381</td>\n",
       "      <td>22355</td>\n",
       "      <td>5740811</td>\n",
       "    </tr>\n",
       "    <tr>\n",
       "      <th>South</th>\n",
       "      <td>8213295</td>\n",
       "      <td>55875052</td>\n",
       "      <td>391721.9050</td>\n",
       "      <td>6209</td>\n",
       "      <td>238.55</td>\n",
       "      <td>46749.4303</td>\n",
       "      <td>264.900833</td>\n",
       "      <td>12103</td>\n",
       "      <td>3265400</td>\n",
       "    </tr>\n",
       "    <tr>\n",
       "      <th>West</th>\n",
       "      <td>15971838</td>\n",
       "      <td>293739752</td>\n",
       "      <td>725457.8245</td>\n",
       "      <td>12266</td>\n",
       "      <td>350.20</td>\n",
       "      <td>108418.4489</td>\n",
       "      <td>703.015637</td>\n",
       "      <td>25722</td>\n",
       "      <td>6456379</td>\n",
       "    </tr>\n",
       "  </tbody>\n",
       "</table>\n",
       "</div>"
      ],
      "text/plain": [
       "           Row ID  Postal Code        Sales  Quantity  Discount       Profit  \\\n",
       "Region                                                                         \n",
       "Central  11685963    151786150  501239.8908      8780    558.34   39706.3625   \n",
       "East     14073919     50171698  678781.2400     10618    414.00   91522.7800   \n",
       "South     8213295     55875052  391721.9050      6209    238.55   46749.4303   \n",
       "West     15971838    293739752  725457.8245     12266    350.20  108418.4489   \n",
       "\n",
       "         Profit margin  Order Month  Order Year  \n",
       "Region                                           \n",
       "Central    -241.761438        17870     4682538  \n",
       "East        476.262381        22355     5740811  \n",
       "South       264.900833        12103     3265400  \n",
       "West        703.015637        25722     6456379  "
      ]
     },
     "execution_count": 27,
     "metadata": {},
     "output_type": "execute_result"
    }
   ],
   "source": [
    "# Total and average sales by Region\n",
    "total_city_sales = data.groupby(\"Region\").sum()\n",
    "total_city_sales"
   ]
  },
  {
   "cell_type": "code",
   "execution_count": 28,
   "id": "c7817850",
   "metadata": {},
   "outputs": [
    {
     "data": {
      "text/plain": [
       "Region\n",
       "South      241.803645\n",
       "East       238.336110\n",
       "West       226.493233\n",
       "Central    215.772661\n",
       "Name: Sales, dtype: float64"
      ]
     },
     "execution_count": 28,
     "metadata": {},
     "output_type": "execute_result"
    }
   ],
   "source": [
    "avg_sales_per_order = data.groupby('Region')['Sales'].mean().sort_values(ascending=False)\n",
    "avg_sales_per_order"
   ]
  },
  {
   "cell_type": "code",
   "execution_count": 29,
   "id": "6e4bb7aa",
   "metadata": {},
   "outputs": [
    {
     "data": {
      "image/png": "[encoded data removed]",
      "text/plain": [
       "<Figure size 864x576 with 1 Axes>"
      ]
     },
     "metadata": {
      "needs_background": "light"
     },
     "output_type": "display_data"
    }
   ],
   "source": [
    "region_product_sales = data.groupby(['Region', 'Category'])['Sales'].sum().unstack()\n",
    "region_product_sales.plot(kind='bar', stacked=True, figsize=(12, 8))\n",
    "plt.title('Product Category Sales by Region')\n",
    "plt.show()"
   ]
  },
  {
   "cell_type": "code",
   "execution_count": 30,
   "id": "e832d3dd",
   "metadata": {},
   "outputs": [
    {
     "data": {
      "text/plain": [
       "Region\n",
       "Central    4.058115\n",
       "East       3.908708\n",
       "South      3.958025\n",
       "West       3.929753\n",
       "Name: Shipping Time, dtype: float64"
      ]
     },
     "execution_count": 30,
     "metadata": {},
     "output_type": "execute_result"
    }
   ],
   "source": [
    "# Regions with the shortest/longest shipping times\n",
    "data['Shipping Time'] = (data['Ship Date'] - data['Order Date']).dt.days\n",
    "avg_shipping_time = data.groupby('Region')['Shipping Time'].mean()\n",
    "avg_shipping_time"
   ]
  },
  {
   "cell_type": "code",
   "execution_count": 31,
   "id": "55351ae4",
   "metadata": {},
   "outputs": [
    {
     "data": {
      "text/plain": [
       "Region\n",
       "Central    0.079216\n",
       "East       0.134834\n",
       "South      0.119343\n",
       "West       0.149448\n",
       "dtype: float64"
      ]
     },
     "execution_count": 31,
     "metadata": {},
     "output_type": "execute_result"
    }
   ],
   "source": [
    "# Relation between region and profit margins\n",
    "region_profit_margin = data.groupby('Region')['Profit'].sum() / data.groupby('Region')['Sales'].sum()\n",
    "region_profit_margin"
   ]
  },
  {
   "cell_type": "code",
   "execution_count": 32,
   "id": "1f750808",
   "metadata": {},
   "outputs": [
    {
     "data": {
      "image/png": "[encoded data removed]",
      "text/plain": [
       "<Figure size 1008x576 with 1 Axes>"
      ]
     },
     "metadata": {
      "needs_background": "light"
     },
     "output_type": "display_data"
    }
   ],
   "source": [
    "# Sales and Profit trend for each region over time\n",
    "region_sales_trend = data.groupby(['Order Date','Region'])['Sales'].sum().unstack()\n",
    "region_sales_trend.plot(figsize=(14,8))\n",
    "plt.title(\"Sales trend by Region\")\n",
    "plt.ylabel('Sales')\n",
    "plt.show()"
   ]
  },
  {
   "cell_type": "markdown",
   "id": "ceeb044d",
   "metadata": {},
   "source": [
    "### Operational Efficiency and Cost analysis"
   ]
  },
  {
   "cell_type": "code",
   "execution_count": 33,
   "id": "b28e8d75",
   "metadata": {},
   "outputs": [
    {
     "data": {
      "text/plain": [
       "Category\n",
       "Furniture          3.917020\n",
       "Office Supplies    3.983405\n",
       "Technology         3.923119\n",
       "Name: Shipping Time, dtype: float64"
      ]
     },
     "execution_count": 33,
     "metadata": {},
     "output_type": "execute_result"
    }
   ],
   "source": [
    "# Average shipping time by product category\n",
    "avg_shipping_by_category = data.groupby('Category')['Shipping Time'].mean()\n",
    "avg_shipping_by_category"
   ]
  },
  {
   "cell_type": "code",
   "execution_count": 34,
   "id": "0756064f",
   "metadata": {},
   "outputs": [
    {
     "data": {
      "text/plain": [
       "Region\n",
       "Central    4.058115\n",
       "East       3.908708\n",
       "South      3.958025\n",
       "West       3.929753\n",
       "Name: Shipping Time, dtype: float64"
      ]
     },
     "execution_count": 34,
     "metadata": {},
     "output_type": "execute_result"
    }
   ],
   "source": [
    "# Average shipping time by region\n",
    "avg_shipping_by_region = data.groupby('Region')['Shipping Time'].mean()\n",
    "avg_shipping_by_region"
   ]
  },
  {
   "cell_type": "markdown",
   "id": "acf555c7",
   "metadata": {},
   "source": [
    "### Product Performance and Inventory insights"
   ]
  },
  {
   "cell_type": "code",
   "execution_count": 35,
   "id": "31dfda71",
   "metadata": {},
   "outputs": [
    {
     "data": {
      "text/plain": [
       "Product Name\n",
       "Canon imageCLASS 2200 Advanced Copier                                          25199.9280\n",
       "Fellowes PB500 Electric Punch Plastic Comb Binding Machine with Manual Bind     7753.0390\n",
       "Hewlett Packard LaserJet 3310 Copier                                            6983.8836\n",
       "Canon PC1060 Personal Laser Copier                                              4570.9347\n",
       "HP Designjet T520 Inkjet Large Format Printer - 24\" Color                       4094.9766\n",
       "Name: Profit, dtype: float64"
      ]
     },
     "execution_count": 35,
     "metadata": {},
     "output_type": "execute_result"
    }
   ],
   "source": [
    "# Top 5 most profitable product\n",
    "top_profitable_products = data.groupby('Product Name')['Profit'].sum().nlargest(5)\n",
    "top_profitable_products"
   ]
  },
  {
   "cell_type": "code",
   "execution_count": 36,
   "id": "4dafc20b",
   "metadata": {},
   "outputs": [
    {
     "data": {
      "text/plain": [
       "Product Name\n",
       "Cubify CubeX 3D Printer Double Head Print                  -8879.9704\n",
       "Lexmark MX611dhe Monochrome Laser Printer                  -4589.9730\n",
       "Cubify CubeX 3D Printer Triple Head Print                  -3839.9904\n",
       "Chromcraft Bull-Nose Wood Oval Conference Tables & Bases   -2876.1156\n",
       "Bush Advantage Collection Racetrack Conference Table       -1934.3976\n",
       "Name: Profit, dtype: float64"
      ]
     },
     "execution_count": 36,
     "metadata": {},
     "output_type": "execute_result"
    }
   ],
   "source": [
    "# Top 5 least profitable product\n",
    "least_profitable_products = data.groupby('Product Name')['Profit'].sum().nsmallest(5)\n",
    "least_profitable_products"
   ]
  },
  {
   "cell_type": "code",
   "execution_count": 37,
   "id": "d153e039",
   "metadata": {},
   "outputs": [
    {
     "name": "stdout",
     "output_type": "stream",
     "text": [
      "Category\n",
      "Furniture          485974.5253\n",
      "Office Supplies    276897.0320\n",
      "Technology         446420.8330\n",
      "dtype: float64\n"
     ]
    }
   ],
   "source": [
    "category_discount_effect = data.groupby('Category').apply(lambda x: x[x['Discount'] > 0]['Sales'].sum())\n",
    "print(category_discount_effect)"
   ]
  }
 ],
 "metadata": {
  "kernelspec": {
   "display_name": "Python 3 (ipykernel)",
   "language": "python",
   "name": "python3"
  },
  "language_info": {
   "codemirror_mode": {
    "name": "ipython",
    "version": 3
   },
   "file_extension": ".py",
   "mimetype": "text/x-python",
   "name": "python",
   "nbconvert_exporter": "python",
   "pygments_lexer": "ipython3",
   "version": "3.9.12"
  }
 },
 "nbformat": 4,
 "nbformat_minor": 5
}
